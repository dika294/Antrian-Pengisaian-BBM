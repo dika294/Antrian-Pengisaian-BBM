{
 "cells": [
  {
   "cell_type": "code",
   "execution_count": null,
   "metadata": {},
   "outputs": [],
   "source": [
    "from collections import deque \n",
    "\n",
    "# dictionary untuk prioritas bbm\n",
    "priority_bbm = {\n",
    "    \"Pertamax Turbo\": 1,\n",
    "    \"Pertamax\": 2,\n",
    "    \"Pertalite\": 3\n",
    "}\n",
    "\n",
    "# Fungsi untuk memnentukan antrian kendaraan\n",
    "def add_kendaraan(antrian, jenis, plat, bbm):\n",
    "    indeks_sisip = len(antrian)\n",
    "    for i, (_, _, bbm_kendaraan) in enumerate(antrian):\n",
    "        if priority_bbm[bbm_kendaraan] > priority_bbm[bbm]:\n",
    "            indeks_sisip = i\n",
    "            break\n",
    "    antrian.insert(indeks_sisip, (jenis, plat, bbm))\n",
    "    print(f'{jenis} dengan plat {plat} masuk antrian.')\n",
    "\n",
    "\n",
    "# menampilkan antriannya\n",
    "def show_queue(antrian):\n",
    "    if antrian:\n",
    "        print(\"\\nPengisian BBM prioritas: \")\n",
    "        for i, (jenis, plat, bbm) in enumerate(antrian, 1):\n",
    "            print(f'{i}. {jenis} - {plat} - {bbm}')\n",
    "    else:\n",
    "        print(\"Tidak ada antrian.\")\n",
    "\n",
    "#  Tempat menyediakan antrian\n",
    "antrian_bbm = deque()\n",
    "\n",
    "\n",
    "# implementasi\n",
    "while True:\n",
    "    print(\"\\nMenu:\")\n",
    "    print(\"1. Tambah Kendaraan\")\n",
    "    print(\"2. Antrian/Keluar\")\n",
    "\n",
    "    pilihan = input(\"Pilih menu: \")\n",
    "    if pilihan == \"1\":\n",
    "        print(\"\\nPilih Jenis Kendaraan:\")\n",
    "        print(\"1. Motor\")\n",
    "        print(\"2. Mobil\")\n",
    "        kendaraan_input = input(\"Pilih jenis kendaraan: \")\n",
    "        if kendaraan_input == \"1\":\n",
    "            jenis_kendaraan = \"Motor\"\n",
    "        elif kendaraan_input == \"2\":\n",
    "            jenis_kendaraan = \"Mobil\"\n",
    "        else:\n",
    "            print(\"Pilihan tidak valid.\")\n",
    "            continue\n",
    "\n",
    "        print (\"\\nPlat kendaraan: \")\n",
    "        plat_nomor = input(\"Masukkan nomor plat kendaraan: \")\n",
    "        print(f'plat nomor : {plat_nomor}')\n",
    "\n",
    "        print(\"\\nPilih Jenis BBM:\")\n",
    "        print(\"1. Pertamax Turbo\")\n",
    "        print(\"2. Pertamax\")\n",
    "        print(\"3. Pertalite\")\n",
    "        bbm_input = input(\"Pilih jenis BBM: \")\n",
    "        if bbm_input == \"1\":\n",
    "            jenis_bbm = \"Pertamax Turbo\"\n",
    "        elif bbm_input == \"2\":\n",
    "            jenis_bbm = \"Pertamax\"\n",
    "        elif bbm_input == \"3\":\n",
    "            jenis_bbm = \"Pertalite\"\n",
    "        else:\n",
    "            print\n",
    "            (\"Pilihan tidak valid.\")\n",
    "            continue\n",
    "\n",
    "        add_kendaraan(antrian_bbm, jenis_kendaraan, plat_nomor, jenis_bbm)\n",
    "    elif pilihan == \"2\":\n",
    "        show_queue(antrian_bbm)\n",
    "        break\n",
    "    else:\n",
    "        print(\"Pilihan tidak valid.\")\n",
    "        \n"
   ]
  },
  {
   "cell_type": "code",
   "execution_count": 35,
   "metadata": {},
   "outputs": [
    {
     "name": "stdout",
     "output_type": "stream",
     "text": [
      "75\n"
     ]
    }
   ],
   "source": [
    "a = float((1 + (5* 60)) / 7)\n",
    "b = float (7 * 43 % 60)\n",
    "c = int ((75**7) % 77)\n",
    "d = 26**43\n",
    "print(d % 77)\n"
   ]
  },
  {
   "cell_type": "code",
   "execution_count": 4,
   "metadata": {},
   "outputs": [
    {
     "name": "stdout",
     "output_type": "stream",
     "text": [
      "['mangaa', 'apel', 'nanas']\n",
      "['mangaa', 'apel', 'nanas']\n",
      "['mangaa', 'apel', 'nanas']\n"
     ]
    }
   ],
   "source": [
    "buah = ['mangaa','apel','nanas']\n",
    "\n",
    "for i, buh in enumerate(buah, 1):\n",
    "    print(f'{buah}')"
   ]
  }
 ],
 "metadata": {
  "kernelspec": {
   "display_name": "Python 3",
   "language": "python",
   "name": "python3"
  },
  "language_info": {
   "codemirror_mode": {
    "name": "ipython",
    "version": 3
   },
   "file_extension": ".py",
   "mimetype": "text/x-python",
   "name": "python",
   "nbconvert_exporter": "python",
   "pygments_lexer": "ipython3",
   "version": "3.12.6"
  }
 },
 "nbformat": 4,
 "nbformat_minor": 2
}
